{
 "cells": [
  {
   "cell_type": "markdown",
   "metadata": {},
   "source": [
    "# Add an object to the interactive\n",
    "\n",
    "*This will take a name and use the information from wikipedia to generate an entry*"
   ]
  },
  {
   "cell_type": "code",
   "execution_count": 1,
   "metadata": {},
   "outputs": [],
   "source": [
    "import pandas as pd\n",
    "import numpy as np\n",
    "import os\n",
    "import json\n",
    "import wikipedia\n",
    "import wptools #https://github.com/siznax/wptools"
   ]
  },
  {
   "cell_type": "markdown",
   "metadata": {},
   "source": [
    "*Info for WWT*"
   ]
  },
  {
   "cell_type": "code",
   "execution_count": 2,
   "metadata": {},
   "outputs": [],
   "source": [
    "def getWWTcmd(RA,DEC,view):\n",
    "    return 'http://tilewall.adlerplanetarium.org:5050/layerApi.aspx?cmd=mode&lookat=Sky&flyto='+str(RA)+','+str(DEC)+','+str(view)+'0,0'"
   ]
  },
  {
   "cell_type": "markdown",
   "metadata": {},
   "source": [
    "*Info from wikipedia*"
   ]
  },
  {
   "cell_type": "code",
   "execution_count": 3,
   "metadata": {},
   "outputs": [],
   "source": [
    "def getWikiInfo(search, view=4):\n",
    "    #https://wikipedia.readthedocs.io/en/latest/quickstart.html\n",
    "    \n",
    "    site = wikipedia.search(search)\n",
    "    print(search)\n",
    "    if (site):\n",
    "        print(\"wiki page: \", site[0])\n",
    "        page = None\n",
    "        try:\n",
    "            page = wikipedia.page(site[0])\n",
    "        except wikipedia.exceptions.DisambiguationError as e:\n",
    "            print(e.options)\n",
    "            #pass\n",
    "        if (page):\n",
    "            img = []\n",
    "            for i in page.images:\n",
    "                if ((\"jpg\" in i or \"png\" in i) and \"Celestia\" not in i):\n",
    "                    img.append(i)\n",
    "                    \n",
    "            #get more info with wptools\n",
    "            #https://github.com/siznax/wptools/wiki/\n",
    "            wpage = wptools.page(search)\n",
    "            wpage.get_query()\n",
    "            wpage.get_parse()\n",
    "            \n",
    "            #get the main image\n",
    "            mainImg = None\n",
    "            if (wpage.images()):\n",
    "                for i in wpage.images():\n",
    "                    if (i['kind'] == 'query-pageimage'):\n",
    "                        mainImg = i['url']\n",
    "\n",
    "                if (mainImg):\n",
    "                    img2 = img\n",
    "                    img = [mainImg]\n",
    "                    for i in img2:\n",
    "                        if (i != mainImg):\n",
    "                            img.append(i)\n",
    "            \n",
    "            #get the infobox for RA, Dec, etc.\n",
    "            RA = None\n",
    "            Dec = None\n",
    "            Distance = None\n",
    "            Size = None\n",
    "            wwt = None\n",
    "            \n",
    "            info = wpage.data['infobox']\n",
    "            if ('ra' in info):\n",
    "                RAstring = info['ra']\n",
    "                print('RAstring', RAstring)\n",
    "                p1 = RAstring.find('|')\n",
    "                RAstring = RAstring[(p1+1):]\n",
    "                p1 = RAstring.find('|')\n",
    "                rh = RAstring[:p1]\n",
    "                RAstring = RAstring[(p1+1):]\n",
    "                p1 = RAstring.find('|')\n",
    "                rm = RAstring[:p1]\n",
    "                RAstring = RAstring[(p1+1):]\n",
    "                p1 = RAstring.find('}')\n",
    "                rs = RAstring[:p1]\n",
    "                print('RA', rh, rm, rs)\n",
    "                RA = float(rh) + float(rm)/60. + float(rs)/3600.\n",
    "            if ('dec' in info):\n",
    "                DecString = info['dec']\n",
    "                print('DecString', DecString)\n",
    "                p1 = DecString.find('|')\n",
    "                DecString = DecString[(p1+1):]\n",
    "                p1 = DecString.find('|')\n",
    "                dd = DecString[:p1]\n",
    "                DecString = DecString[(p1+1):]\n",
    "                p1 = DecString.find('|')\n",
    "                dm = DecString[:p1]\n",
    "                DecString = DecString[(p1+1):]\n",
    "                p1 = DecString.find('}')\n",
    "                ds = DecString[:p1]\n",
    "                print('Dec', dd, dm, ds)\n",
    "                Dec = float(dd) + float(dm)/60. + float(ds)/3600.\n",
    "            if ('distance' in info):\n",
    "                DistString = info['distance']\n",
    "                print('DistString', DistString)\n",
    "                p1 = DistString.find('|')\n",
    "                DistString = DistString[(p1+1):]\n",
    "                p1 = DistString.find('|')\n",
    "                d = DistString[:p1]\n",
    "                DistString = DistString[(p1+1):]\n",
    "                p1 = DistString.find('|')\n",
    "                u = DistString[:p1]\n",
    "                Distance = d + ' ' + u\n",
    "                print('Distance ', Distance)\n",
    "            if ('size' in info):\n",
    "                Size = info['size']\n",
    "            \n",
    "            if (RA and Dec and view):\n",
    "                wwt = getWWTcmd(RA,Dec,view)\n",
    "            return img, page.url, page.summary, RA, Dec, Distance, Size, wwt\n",
    "\n",
    "    return None, None, None, None, None, None, None"
   ]
  },
  {
   "cell_type": "markdown",
   "metadata": {},
   "source": [
    "*Create the json file*"
   ]
  },
  {
   "cell_type": "code",
   "execution_count": 4,
   "metadata": {},
   "outputs": [],
   "source": [
    "def makeOutput(fname, nme, WWTurl=None, Distance=None, Size=None, Notes=None, Category=None, images=None, wikipedia=None):\n",
    "    dictOut = {}\n",
    "    dictOut[nme] = {}\n",
    "    dictOut[nme]['WWTurl'] = WWTurl\n",
    "    dictOut[nme]['Distance'] = Distance\n",
    "    dictOut[nme]['Size'] = Size\n",
    "    dictOut[nme]['Notes'] = Notes\n",
    "    dictOut[nme]['Category'] = Category\n",
    "    dictOut[nme]['images'] = images\n",
    "    dictOut[nme]['wikipedia'] = wikipedia\n",
    "    \n",
    "    with open(fname, 'w') as fp:\n",
    "        json.dump(dictOut, fp)"
   ]
  },
  {
   "cell_type": "markdown",
   "metadata": {},
   "source": [
    "### A method to create the object in one line"
   ]
  },
  {
   "cell_type": "code",
   "execution_count": 5,
   "metadata": {},
   "outputs": [],
   "source": [
    "def createObject(nme, cat, fname):\n",
    "    img, url, summary, RA, Dec, Distance, Size, wwt = getWikiInfo(nme)\n",
    "    makeOutput(fname, \n",
    "               nme,\n",
    "               WWTurl=wwt, \n",
    "               Distance=Distance, \n",
    "               Size=Size, \n",
    "               Notes=summary, \n",
    "               Category=cat, \n",
    "               images=img, \n",
    "               wikipedia=url)"
   ]
  },
  {
   "cell_type": "markdown",
   "metadata": {},
   "source": [
    "## Create a couple new objects"
   ]
  },
  {
   "cell_type": "code",
   "execution_count": 6,
   "metadata": {},
   "outputs": [
    {
     "name": "stdout",
     "output_type": "stream",
     "text": [
      "SN 1987a\n",
      "wiki page:  SN 1987A\n"
     ]
    },
    {
     "name": "stderr",
     "output_type": "stream",
     "text": [
      "en.wikipedia.org (query) SN 1987a\n",
      "en.wikipedia.org (imageinfo) File:Eso0708a.jpg\n",
      "SN 1987A (en) data\n",
      "{\n",
      "  WARNINGS: <dict(1)> extracts\n",
      "  assessments: <dict(2)> Astronomy, Physics\n",
      "  description: supernova\n",
      "  extext: <str(969)> **SN 1987A** was a peculiar type II supernova...\n",
      "  extract: <str(1033)> <p class=\"mw-empty-elt\"></p><p><b>SN 1987A<...\n",
      "  image: <list(2)> {'kind': 'query-pageimage', 'file': 'File:Eso07...\n",
      "  label: SN 1987A\n",
      "  length: 38,413\n",
      "  links: <list(187)> Albert F. A. L. Jones, All Sky Automated Surv...\n",
      "  modified: <dict(1)> page\n",
      "  pageid: 28930\n",
      "  random: Jean-Jacques Boisard\n",
      "  redirected: <list(1)> {'from': 'SN 1987a', 'to': 'SN 1987A'}\n",
      "  redirects: <list(14)> {'pageid': 192119, 'ns': 0, 'title': 'Supe...\n",
      "  requests: <list(2)> query, imageinfo\n",
      "  title: SN 1987A\n",
      "  url: https://en.wikipedia.org/wiki/SN_1987A\n",
      "  url_raw: https://en.wikipedia.org/wiki/SN_1987A?action=raw\n",
      "  watchers: 103\n",
      "  wikibase: Q584905\n",
      "  wikidata_url: https://www.wikidata.org/wiki/Q584905\n",
      "}\n",
      "en.wikipedia.org (parse) 28930\n",
      "en.wikipedia.org (imageinfo) File:Eso0708a.jpg\n",
      "SN 1987A (en) data\n",
      "{\n",
      "  WARNINGS: <dict(1)> extracts\n",
      "  assessments: <dict(2)> Astronomy, Physics\n",
      "  description: supernova\n",
      "  extext: <str(969)> **SN 1987A** was a peculiar type II supernova...\n",
      "  extract: <str(1033)> <p class=\"mw-empty-elt\"></p><p><b>SN 1987A<...\n",
      "  image: <list(3)> {'kind': 'query-pageimage', 'file': 'File:Eso07...\n",
      "  infobox: <dict(19)> name, image, image_size, caption, credit, ep...\n",
      "  iwlinks: <list(4)> https://commons.wikimedia.org/wiki/Category:S...\n",
      "  label: SN 1987A\n",
      "  length: 38,413\n",
      "  links: <list(187)> Albert F. A. L. Jones, All Sky Automated Surv...\n",
      "  modified: <dict(1)> page\n",
      "  pageid: 28930\n",
      "  parsetree: <str(47118)> <root><template><title>Use mdy dates</ti...\n",
      "  random: Jean-Jacques Boisard\n",
      "  redirected: <list(1)> {'from': 'SN 1987a', 'to': 'SN 1987A'}\n",
      "  redirects: <list(14)> {'pageid': 192119, 'ns': 0, 'title': 'Supe...\n",
      "  requests: <list(4)> query, imageinfo, parse, imageinfo\n",
      "  title: SN 1987A\n",
      "  url: https://en.wikipedia.org/wiki/SN_1987A\n",
      "  url_raw: https://en.wikipedia.org/wiki/SN_1987A?action=raw\n",
      "  watchers: 103\n",
      "  wikibase: Q584905\n",
      "  wikidata_url: https://www.wikidata.org/wiki/Q584905\n",
      "  wikitext: <str(37681)> {{Use mdy dates|date=April 2018}}{{stack|...\n",
      "}\n"
     ]
    },
    {
     "name": "stdout",
     "output_type": "stream",
     "text": [
      "RAstring {{RA|05|35|28.03}}\n",
      "RA 05 35 28.03\n",
      "DecString {{DEC|-69|16|11.79}}\n",
      "Dec -69 16 11.79\n",
      "DistString {{convert|51.4|kpc|ly|abbr|=|on}}\n",
      "Distance  51.4 kpc\n"
     ]
    }
   ],
   "source": [
    "nme = \"SN 1987a\"\n",
    "cat = \"Nebula\"\n",
    "fname = 'SN1987a.json'\n",
    "createObject(nme, cat, fname)"
   ]
  },
  {
   "cell_type": "code",
   "execution_count": 7,
   "metadata": {},
   "outputs": [
    {
     "name": "stdout",
     "output_type": "stream",
     "text": [
      "Cassiopeia A\n",
      "wiki page:  Cassiopeia A\n"
     ]
    },
    {
     "name": "stderr",
     "output_type": "stream",
     "text": [
      "en.wikipedia.org (query) Cassiopeia A\n",
      "en.wikipedia.org (imageinfo) File:Cassiopeia A Spitzer Crop.jpg\n",
      "Cassiopeia A (en) data\n",
      "{\n",
      "  WARNINGS: <dict(1)> extracts\n",
      "  assessments: <dict(1)> Astronomy\n",
      "  description: supernova remnant in the constellation Cassiopeia\n",
      "  extext: <str(1658)> **Cassiopeia A** ( **Cas A** ) is a supernov...\n",
      "  extract: <str(1714)> <p><b>Cassiopeia A</b> (<b>Cas A</b>) is a ...\n",
      "  image: <list(2)> {'kind': 'query-pageimage', 'file': 'File:Cassi...\n",
      "  label: Cassiopeia A\n",
      "  length: 14,046\n",
      "  links: <list(140)> 3 Cassiopeiae, Aerobee, All Sky Automated Sur...\n",
      "  modified: <dict(1)> page\n",
      "  pageid: 1996903\n",
      "  random: Burin-Placentia West\n",
      "  redirects: <list(6)> {'pageid': 1499533, 'ns': 0, 'title': '3C 4...\n",
      "  requests: <list(2)> query, imageinfo\n",
      "  title: Cassiopeia A\n",
      "  url: https://en.wikipedia.org/wiki/Cassiopeia_A\n",
      "  url_raw: https://en.wikipedia.org/wiki/Cassiopeia_A?action=raw\n",
      "  watchers: 37\n",
      "  wikibase: Q618273\n",
      "  wikidata_url: https://www.wikidata.org/wiki/Q618273\n",
      "}\n",
      "en.wikipedia.org (parse) 1996903\n"
     ]
    },
    {
     "name": "stdout",
     "output_type": "stream",
     "text": [
      "RAstring 23<sup>h</sup> 23<sup>m</sup> 24<sup>s</sup>\n",
      "RA 23<sup>h</sup> 23<sup>m</sup> 24<sup>s</sup 23<sup>h</sup> 23<sup>m</sup> 24<sup>s</sup 23<sup>h</sup> 23<sup>m</sup> 24<sup>s</sup\n"
     ]
    },
    {
     "name": "stderr",
     "output_type": "stream",
     "text": [
      "Cassiopeia A (en) data\n",
      "{\n",
      "  WARNINGS: <dict(1)> extracts\n",
      "  assessments: <dict(1)> Astronomy\n",
      "  description: supernova remnant in the constellation Cassiopeia\n",
      "  extext: <str(1658)> **Cassiopeia A** ( **Cas A** ) is a supernov...\n",
      "  extract: <str(1714)> <p><b>Cassiopeia A</b> (<b>Cas A</b>) is a ...\n",
      "  image: <list(2)> {'kind': 'query-pageimage', 'file': 'File:Cassi...\n",
      "  infobox: <dict(20)> name, image, caption, type, epoch, SNRtype, ...\n",
      "  iwlinks: <list(3)> https://commons.wikimedia.org/wiki/Category:C...\n",
      "  label: Cassiopeia A\n",
      "  length: 14,046\n",
      "  links: <list(140)> 3 Cassiopeiae, Aerobee, All Sky Automated Sur...\n",
      "  modified: <dict(1)> page\n",
      "  pageid: 1996903\n",
      "  parsetree: <str(18842)> <root><template><title>Infobox supernova...\n",
      "  random: Burin-Placentia West\n",
      "  redirects: <list(6)> {'pageid': 1499533, 'ns': 0, 'title': '3C 4...\n",
      "  requests: <list(3)> query, imageinfo, parse\n",
      "  title: Cassiopeia A\n",
      "  url: https://en.wikipedia.org/wiki/Cassiopeia_A\n",
      "  url_raw: https://en.wikipedia.org/wiki/Cassiopeia_A?action=raw\n",
      "  watchers: 37\n",
      "  wikibase: Q618273\n",
      "  wikidata_url: https://www.wikidata.org/wiki/Q618273\n",
      "  wikitext: <str(13908)> {{Infobox supernova || name = Cassiopeia ...\n",
      "}\n"
     ]
    },
    {
     "ename": "ValueError",
     "evalue": "could not convert string to float: '23<sup>h</sup> 23<sup>m</sup> 24<sup>s</sup'",
     "output_type": "error",
     "traceback": [
      "\u001b[0;31m---------------------------------------------------------------------------\u001b[0m",
      "\u001b[0;31mValueError\u001b[0m                                Traceback (most recent call last)",
      "\u001b[0;32m<ipython-input-7-350843fb4729>\u001b[0m in \u001b[0;36m<module>\u001b[0;34m\u001b[0m\n\u001b[1;32m      2\u001b[0m \u001b[0mcat\u001b[0m \u001b[0;34m=\u001b[0m \u001b[0;34m\"Nebula\"\u001b[0m\u001b[0;34m\u001b[0m\u001b[0;34m\u001b[0m\u001b[0m\n\u001b[1;32m      3\u001b[0m \u001b[0mfname\u001b[0m \u001b[0;34m=\u001b[0m \u001b[0;34m'CassiopeiaA.json'\u001b[0m\u001b[0;34m\u001b[0m\u001b[0;34m\u001b[0m\u001b[0m\n\u001b[0;32m----> 4\u001b[0;31m \u001b[0mcreateObject\u001b[0m\u001b[0;34m(\u001b[0m\u001b[0mnme\u001b[0m\u001b[0;34m,\u001b[0m \u001b[0mcat\u001b[0m\u001b[0;34m,\u001b[0m \u001b[0mfname\u001b[0m\u001b[0;34m)\u001b[0m\u001b[0;34m\u001b[0m\u001b[0;34m\u001b[0m\u001b[0m\n\u001b[0m\u001b[1;32m      5\u001b[0m \u001b[0;34m\u001b[0m\u001b[0m\n",
      "\u001b[0;32m<ipython-input-5-75fd0065cfc4>\u001b[0m in \u001b[0;36mcreateObject\u001b[0;34m(nme, cat, fname)\u001b[0m\n\u001b[1;32m      1\u001b[0m \u001b[0;32mdef\u001b[0m \u001b[0mcreateObject\u001b[0m\u001b[0;34m(\u001b[0m\u001b[0mnme\u001b[0m\u001b[0;34m,\u001b[0m \u001b[0mcat\u001b[0m\u001b[0;34m,\u001b[0m \u001b[0mfname\u001b[0m\u001b[0;34m)\u001b[0m\u001b[0;34m:\u001b[0m\u001b[0;34m\u001b[0m\u001b[0;34m\u001b[0m\u001b[0m\n\u001b[0;32m----> 2\u001b[0;31m     \u001b[0mimg\u001b[0m\u001b[0;34m,\u001b[0m \u001b[0murl\u001b[0m\u001b[0;34m,\u001b[0m \u001b[0msummary\u001b[0m\u001b[0;34m,\u001b[0m \u001b[0mRA\u001b[0m\u001b[0;34m,\u001b[0m \u001b[0mDec\u001b[0m\u001b[0;34m,\u001b[0m \u001b[0mDistance\u001b[0m\u001b[0;34m,\u001b[0m \u001b[0mSize\u001b[0m\u001b[0;34m,\u001b[0m \u001b[0mwwt\u001b[0m \u001b[0;34m=\u001b[0m \u001b[0mgetWikiInfo\u001b[0m\u001b[0;34m(\u001b[0m\u001b[0mnme\u001b[0m\u001b[0;34m)\u001b[0m\u001b[0;34m\u001b[0m\u001b[0;34m\u001b[0m\u001b[0m\n\u001b[0m\u001b[1;32m      3\u001b[0m     makeOutput(fname, \n\u001b[1;32m      4\u001b[0m                \u001b[0mnme\u001b[0m\u001b[0;34m,\u001b[0m\u001b[0;34m\u001b[0m\u001b[0;34m\u001b[0m\u001b[0m\n\u001b[1;32m      5\u001b[0m                \u001b[0mWWTurl\u001b[0m\u001b[0;34m=\u001b[0m\u001b[0mwwt\u001b[0m\u001b[0;34m,\u001b[0m\u001b[0;34m\u001b[0m\u001b[0;34m\u001b[0m\u001b[0m\n",
      "\u001b[0;32m<ipython-input-3-2957aa85c9aa>\u001b[0m in \u001b[0;36mgetWikiInfo\u001b[0;34m(search, view)\u001b[0m\n\u001b[1;32m     60\u001b[0m                 \u001b[0mrs\u001b[0m \u001b[0;34m=\u001b[0m \u001b[0mRAstring\u001b[0m\u001b[0;34m[\u001b[0m\u001b[0;34m:\u001b[0m\u001b[0mp1\u001b[0m\u001b[0;34m]\u001b[0m\u001b[0;34m\u001b[0m\u001b[0;34m\u001b[0m\u001b[0m\n\u001b[1;32m     61\u001b[0m                 \u001b[0mprint\u001b[0m\u001b[0;34m(\u001b[0m\u001b[0;34m'RA'\u001b[0m\u001b[0;34m,\u001b[0m \u001b[0mrh\u001b[0m\u001b[0;34m,\u001b[0m \u001b[0mrm\u001b[0m\u001b[0;34m,\u001b[0m \u001b[0mrs\u001b[0m\u001b[0;34m)\u001b[0m\u001b[0;34m\u001b[0m\u001b[0;34m\u001b[0m\u001b[0m\n\u001b[0;32m---> 62\u001b[0;31m                 \u001b[0mRA\u001b[0m \u001b[0;34m=\u001b[0m \u001b[0mfloat\u001b[0m\u001b[0;34m(\u001b[0m\u001b[0mrh\u001b[0m\u001b[0;34m)\u001b[0m \u001b[0;34m+\u001b[0m \u001b[0mfloat\u001b[0m\u001b[0;34m(\u001b[0m\u001b[0mrm\u001b[0m\u001b[0;34m)\u001b[0m\u001b[0;34m/\u001b[0m\u001b[0;36m60.\u001b[0m \u001b[0;34m+\u001b[0m \u001b[0mfloat\u001b[0m\u001b[0;34m(\u001b[0m\u001b[0mrs\u001b[0m\u001b[0;34m)\u001b[0m\u001b[0;34m/\u001b[0m\u001b[0;36m3600.\u001b[0m\u001b[0;34m\u001b[0m\u001b[0;34m\u001b[0m\u001b[0m\n\u001b[0m\u001b[1;32m     63\u001b[0m             \u001b[0;32mif\u001b[0m \u001b[0;34m(\u001b[0m\u001b[0;34m'dec'\u001b[0m \u001b[0;32min\u001b[0m \u001b[0minfo\u001b[0m\u001b[0;34m)\u001b[0m\u001b[0;34m:\u001b[0m\u001b[0;34m\u001b[0m\u001b[0;34m\u001b[0m\u001b[0m\n\u001b[1;32m     64\u001b[0m                 \u001b[0mDecString\u001b[0m \u001b[0;34m=\u001b[0m \u001b[0minfo\u001b[0m\u001b[0;34m[\u001b[0m\u001b[0;34m'dec'\u001b[0m\u001b[0;34m]\u001b[0m\u001b[0;34m\u001b[0m\u001b[0;34m\u001b[0m\u001b[0m\n",
      "\u001b[0;31mValueError\u001b[0m: could not convert string to float: '23<sup>h</sup> 23<sup>m</sup> 24<sup>s</sup'"
     ]
    }
   ],
   "source": [
    "nme = \"Cassiopeia A\"\n",
    "cat = \"Nebula\"\n",
    "fname = 'CassiopeiaA.json'\n",
    "createObject(nme, cat, fname)\n",
    "\n"
   ]
  },
  {
   "cell_type": "markdown",
   "metadata": {},
   "source": [
    "### Compile all the objects for the interactive"
   ]
  },
  {
   "cell_type": "code",
   "execution_count": null,
   "metadata": {},
   "outputs": [],
   "source": [
    "import compileObjects\n",
    "compileObjects"
   ]
  },
  {
   "cell_type": "code",
   "execution_count": null,
   "metadata": {},
   "outputs": [],
   "source": []
  }
 ],
 "metadata": {
  "kernelspec": {
   "display_name": "Python 3",
   "language": "python",
   "name": "python3"
  },
  "language_info": {
   "codemirror_mode": {
    "name": "ipython",
    "version": 3
   },
   "file_extension": ".py",
   "mimetype": "text/x-python",
   "name": "python",
   "nbconvert_exporter": "python",
   "pygments_lexer": "ipython3",
   "version": "3.6.8"
  }
 },
 "nbformat": 4,
 "nbformat_minor": 2
}
