{
 "cells": [
  {
   "cell_type": "markdown",
   "metadata": {},
   "source": [
    "# Add an object to the interactive\n",
    "\n",
    "*This will take a name and use the information from wikipedia to generate an entry*"
   ]
  },
  {
   "cell_type": "code",
   "execution_count": 1,
   "metadata": {},
   "outputs": [],
   "source": [
    "import pandas as pd\n",
    "import numpy as np\n",
    "import os\n",
    "import json\n",
    "import wikipedia\n",
    "import wptools #https://github.com/siznax/wptools"
   ]
  },
  {
   "cell_type": "markdown",
   "metadata": {},
   "source": [
    "*Info for WWT*"
   ]
  },
  {
   "cell_type": "code",
   "execution_count": 2,
   "metadata": {},
   "outputs": [],
   "source": [
    "def getWWTcmd(RA,DEC,view):\n",
    "    return 'http://tilewall.adlerplanetarium.org:5050/layerApi.aspx?cmd=mode&lookat=Sky&flyto='+str(RA)+','+str(DEC)+','+str(view)+'0,0'"
   ]
  },
  {
   "cell_type": "markdown",
   "metadata": {},
   "source": [
    "*Info from wikipedia*"
   ]
  },
  {
   "cell_type": "code",
   "execution_count": 3,
   "metadata": {},
   "outputs": [],
   "source": [
    "def getWikiInfo(search, view=4):\n",
    "    #https://wikipedia.readthedocs.io/en/latest/quickstart.html\n",
    "    \n",
    "    site = wikipedia.search(search)\n",
    "    print(search)\n",
    "    if (site):\n",
    "        print(\"wiki page: \", site[0])\n",
    "        page = None\n",
    "        try:\n",
    "            page = wikipedia.page(site[0])\n",
    "        except wikipedia.exceptions.DisambiguationError as e:\n",
    "            print(e.options)\n",
    "            #pass\n",
    "        if (page):\n",
    "            img = []\n",
    "            for i in page.images:\n",
    "                if ((\"jpg\" in i or \"png\" in i) and \"Celestia\" not in i):\n",
    "                    img.append(i)\n",
    "                    \n",
    "            #get more info with wptools\n",
    "            #https://github.com/siznax/wptools/wiki/\n",
    "            wpage = wptools.page(search)\n",
    "            wpage.get_query()\n",
    "            wpage.get_parse()\n",
    "            \n",
    "            #get the main image\n",
    "            mainImg = None\n",
    "            if (wpage.images()):\n",
    "                for i in wpage.images():\n",
    "                    if (i['kind'] == 'query-pageimage'):\n",
    "                        mainImg = i['url']\n",
    "\n",
    "                if (mainImg):\n",
    "                    img2 = img\n",
    "                    img = [mainImg]\n",
    "                    for i in img2:\n",
    "                        if (i != mainImg):\n",
    "                            img.append(i)\n",
    "            \n",
    "            #get the infobox for RA, Dec, etc.\n",
    "            RA = None\n",
    "            Dec = None\n",
    "            Distance = None\n",
    "            Size = None\n",
    "            wwt = None\n",
    "            \n",
    "            info = wpage.data['infobox']\n",
    "            if ('ra' in info):\n",
    "                RAstring = info['ra']\n",
    "                print('RAstring', RAstring)\n",
    "                p1 = RAstring.find('|')\n",
    "                RAstring = RAstring[(p1+1):]\n",
    "                p1 = RAstring.find('|')\n",
    "                rh = RAstring[:p1]\n",
    "                RAstring = RAstring[(p1+1):]\n",
    "                p1 = RAstring.find('|')\n",
    "                rm = RAstring[:p1]\n",
    "                RAstring = RAstring[(p1+1):]\n",
    "                p1 = RAstring.find('}')\n",
    "                rs = RAstring[:p1]\n",
    "                print('RA', rh, rm, rs)\n",
    "                RA = float(rh) + float(rm)/60. + float(rs)/3600.\n",
    "            if ('dec' in info):\n",
    "                DecString = info['dec']\n",
    "                print('DecString', DecString)\n",
    "                p1 = DecString.find('|')\n",
    "                DecString = DecString[(p1+1):]\n",
    "                p1 = DecString.find('|')\n",
    "                dd = DecString[:p1]\n",
    "                DecString = DecString[(p1+1):]\n",
    "                p1 = DecString.find('|')\n",
    "                dm = DecString[:p1]\n",
    "                DecString = DecString[(p1+1):]\n",
    "                p1 = DecString.find('}')\n",
    "                ds = DecString[:p1]\n",
    "                print('Dec', dd, dm, ds)\n",
    "                Dec = float(dd) + float(dm)/60. + float(ds)/3600.\n",
    "            if ('distance' in info):\n",
    "                DistString = info['distance']\n",
    "                print('DistString', DistString)\n",
    "                p1 = DistString.find('|')\n",
    "                DistString = DistString[(p1+1):]\n",
    "                p1 = DistString.find('|')\n",
    "                d = DistString[:p1]\n",
    "                DistString = DistString[(p1+1):]\n",
    "                p1 = DistString.find('|')\n",
    "                u = DistString[:p1]\n",
    "                Distance = d + ' ' + u\n",
    "                print('Distance ', Distance)\n",
    "            if ('size' in info):\n",
    "                Size = info['size']\n",
    "            \n",
    "            if (RA and Dec and view):\n",
    "                wwt = getWWTcmd(RA,Dec,view)\n",
    "            return img, page.url, page.summary, RA, Dec, Distance, Size, wwt\n",
    "\n",
    "    return None, None, None, None, None, None, None"
   ]
  },
  {
   "cell_type": "markdown",
   "metadata": {},
   "source": [
    "*Create the json file*"
   ]
  },
  {
   "cell_type": "code",
   "execution_count": 4,
   "metadata": {},
   "outputs": [],
   "source": [
    "def makeOutput(fname, nme, WWTurl=None, Distance=None, Size=None, Notes=None, Category=None, images=None, wikipedia=None):\n",
    "    dictOut = {}\n",
    "    dictOut[nme] = {}\n",
    "    dictOut[nme]['WWTurl'] = WWTurl\n",
    "    dictOut[nme]['Distance'] = Distance\n",
    "    dictOut[nme]['Size'] = Size\n",
    "    dictOut[nme]['Notes'] = Notes\n",
    "    dictOut[nme]['Category'] = Category\n",
    "    dictOut[nme]['images'] = images\n",
    "    dictOut[nme]['wikipedia'] = wikipedia\n",
    "    \n",
    "    with open(fname, 'w') as fp:\n",
    "        json.dump(dictOut, fp)"
   ]
  },
  {
   "cell_type": "code",
   "execution_count": 5,
   "metadata": {},
   "outputs": [
    {
     "name": "stdout",
     "output_type": "stream",
     "text": [
      "SN 1987a\n",
      "wiki page:  SN 1987A\n"
     ]
    },
    {
     "name": "stderr",
     "output_type": "stream",
     "text": [
      "en.wikipedia.org (query) SN 1987a\n",
      "en.wikipedia.org (imageinfo) File:Eso0708a.jpg\n",
      "SN 1987A (en) data\n",
      "{\n",
      "  WARNINGS: <dict(1)> extracts\n",
      "  assessments: <dict(2)> Astronomy, Physics\n",
      "  description: supernova\n",
      "  extext: <str(969)> **SN 1987A** was a peculiar type II supernova...\n",
      "  extract: <str(1033)> <p class=\"mw-empty-elt\"></p><p><b>SN 1987A<...\n",
      "  image: <list(2)> {'kind': 'query-pageimage', 'file': 'File:Eso07...\n",
      "  label: SN 1987A\n",
      "  length: 38,413\n",
      "  links: <list(187)> Albert F. A. L. Jones, All Sky Automated Surv...\n",
      "  modified: <dict(1)> page\n",
      "  pageid: 28930\n",
      "  random: Meanings of minor planet names: 345001–346000\n",
      "  redirected: <list(1)> {'from': 'SN 1987a', 'to': 'SN 1987A'}\n",
      "  redirects: <list(14)> {'pageid': 192119, 'ns': 0, 'title': 'Supe...\n",
      "  requests: <list(2)> query, imageinfo\n",
      "  title: SN 1987A\n",
      "  url: https://en.wikipedia.org/wiki/SN_1987A\n",
      "  url_raw: https://en.wikipedia.org/wiki/SN_1987A?action=raw\n",
      "  watchers: 103\n",
      "  wikibase: Q584905\n",
      "  wikidata_url: https://www.wikidata.org/wiki/Q584905\n",
      "}\n",
      "en.wikipedia.org (parse) 28930\n",
      "en.wikipedia.org (imageinfo) File:Eso0708a.jpg\n",
      "SN 1987A (en) data\n",
      "{\n",
      "  WARNINGS: <dict(1)> extracts\n",
      "  assessments: <dict(2)> Astronomy, Physics\n",
      "  description: supernova\n",
      "  extext: <str(969)> **SN 1987A** was a peculiar type II supernova...\n",
      "  extract: <str(1033)> <p class=\"mw-empty-elt\"></p><p><b>SN 1987A<...\n",
      "  image: <list(3)> {'kind': 'query-pageimage', 'file': 'File:Eso07...\n",
      "  infobox: <dict(19)> name, image, image_size, caption, credit, ep...\n",
      "  iwlinks: <list(4)> https://commons.wikimedia.org/wiki/Category:S...\n",
      "  label: SN 1987A\n",
      "  length: 38,413\n",
      "  links: <list(187)> Albert F. A. L. Jones, All Sky Automated Surv...\n",
      "  modified: <dict(1)> page\n",
      "  pageid: 28930\n",
      "  parsetree: <str(47118)> <root><template><title>Use mdy dates</ti...\n",
      "  random: Meanings of minor planet names: 345001–346000\n",
      "  redirected: <list(1)> {'from': 'SN 1987a', 'to': 'SN 1987A'}\n",
      "  redirects: <list(14)> {'pageid': 192119, 'ns': 0, 'title': 'Supe...\n",
      "  requests: <list(4)> query, imageinfo, parse, imageinfo\n",
      "  title: SN 1987A\n",
      "  url: https://en.wikipedia.org/wiki/SN_1987A\n",
      "  url_raw: https://en.wikipedia.org/wiki/SN_1987A?action=raw\n",
      "  watchers: 103\n",
      "  wikibase: Q584905\n",
      "  wikidata_url: https://www.wikidata.org/wiki/Q584905\n",
      "  wikitext: <str(37681)> {{Use mdy dates|date=April 2018}}{{stack|...\n",
      "}\n"
     ]
    },
    {
     "name": "stdout",
     "output_type": "stream",
     "text": [
      "RAstring {{RA|05|35|28.03}}\n",
      "RA 05 35 28.03\n",
      "DecString {{DEC|-69|16|11.79}}\n",
      "Dec -69 16 11.79\n",
      "DistString {{convert|51.4|kpc|ly|abbr|=|on}}\n",
      "Distance  51.4 kpc\n"
     ]
    }
   ],
   "source": [
    "img, url, summary, RA, Dec, Distance, Size, wwt = getWikiInfo('SN 1987a')"
   ]
  },
  {
   "cell_type": "markdown",
   "metadata": {},
   "source": [
    "### Create the new json file"
   ]
  },
  {
   "cell_type": "code",
   "execution_count": 6,
   "metadata": {},
   "outputs": [],
   "source": [
    "fname = os.path.join('userObjects','SN1987a.json')\n",
    "makeOutput(fname, \n",
    "           'SN 1987a',\n",
    "           WWTurl=wwt, \n",
    "           Distance=Distance, \n",
    "           Size=Size, \n",
    "           Notes=summary, \n",
    "           Category='Nebulae', \n",
    "           images=img, \n",
    "           wikipedia=url)"
   ]
  },
  {
   "cell_type": "markdown",
   "metadata": {},
   "source": [
    "### Compile all the objects for the interactive"
   ]
  },
  {
   "cell_type": "code",
   "execution_count": 7,
   "metadata": {},
   "outputs": [
    {
     "name": "stdout",
     "output_type": "stream",
     "text": [
      "Abell1689.json\n",
      "AlphaCentauri.json\n",
      "AndromedaM31.json\n",
      "AntennaeGalaxies.json\n",
      "Aquarius.json\n",
      "Aries.json\n",
      "Betelgeuse.json\n",
      "BlackEyeGalaxyM64.json\n",
      "BodesM81.json\n",
      "BulletCluster.json\n",
      "ButterflyClusterM6.json\n",
      "Cancer.json\n",
      "Canopus.json\n",
      "Capricornus.json\n",
      "CarinaNebula.json\n",
      "Cartwheel.json\n",
      "Cassiopeia.json\n",
      "CatsEyeNebula.json\n",
      "CentaurusA.json\n",
      "CigarGalaxyM82.json\n",
      "CL002417.json\n",
      "ComaCluster.json\n",
      "CrabNebulaM1.json\n",
      "EagleNebulaM16.json\n",
      "EggNebula.json\n",
      "ElephantsTrunkNebula.json\n",
      "ElGordo.json\n",
      "ESO510G13.json\n",
      "EtaCarinae.json\n",
      "EyesGalaxies.json\n",
      "Fomalhaut.json\n",
      "Gemini.json\n",
      "HelixNebula.json\n",
      "Hercules.json\n",
      "HLTau.json\n",
      "HoagsObject.json\n",
      "HomunculusNebula.json\n",
      "HorseheadNebula.json\n",
      "HubbleDeepField.json\n",
      "HubbleUltraDeepField.json\n",
      "Hydra.json\n",
      "LagoonNebulaM8.json\n",
      "LargeMagellanicCloud.json\n",
      "Leo.json\n",
      "LeoTripletM66Group.json\n",
      "Libra.json\n",
      "Lyra.json\n",
      "M10.json\n",
      "M15.json\n",
      "M2.json\n",
      "M3.json\n",
      "M4.json\n",
      "M5.json\n",
      "M60.json\n",
      "M87akaVirgoA.json\n",
      "M9.json\n",
      "MayallsObject.json\n",
      "MiceGalaxies.json\n",
      "MilkyWayGalacticCenter.json\n",
      "NGC1316akaFornaxA.json\n",
      "NGC3314.json\n",
      "NGC4993LIGOKilonova.json\n",
      "NGC5866M102SpindleGalaxy.json\n",
      "NGC5907.json\n",
      "NGC602.json\n",
      "NGC6050.json\n",
      "Ophiuchus.json\n",
      "Orion.json\n",
      "OrionNebulaM42.json\n",
      "PinwheelM101.json\n",
      "Pisces.json\n",
      "PleiadesM45.json\n",
      "Polaris.json\n",
      "Pollux.json\n",
      "ProximaCentauri.json\n",
      "PtolemyClusterM7.json\n",
      "RCS2032727132623.json\n",
      "RhoOphiuchi.json\n",
      "RingNebulaM57.json\n",
      "RosetteNebula.json\n",
      "Sagittarius.json\n",
      "SagittariusDwarfEllipticalGalaxy.json\n",
      "Scorpius.json\n",
      "Sirius.json\n",
      "SmallMagellanicCloud.json\n",
      "SombreroGalaxyM104.json\n",
      "StephansQuintet.json\n",
      "TarantulaNebula.json\n",
      "Taurus.json\n",
      "TriangulumGalaxy.json\n",
      "UrsaMajor.json\n",
      "UrsaMinor.json\n",
      "VeilNebula.json\n",
      "Virgo.json\n",
      "Westerlund2.json\n",
      "WhirlpoolM51.json\n",
      "SN1987a.json\n",
      "['Galaxies', 'Stars', 'Nebulae', 'Star Clusters', 'Galaxy Clusters', 'Constellations']\n"
     ]
    },
    {
     "data": {
      "text/plain": [
       "<module 'compileObjects' from '/Volumes/highnoon2go/highnoon/Visualizations/ml5js/onGitHub/SVLml5js/data/compileObjects.py'>"
      ]
     },
     "execution_count": 7,
     "metadata": {},
     "output_type": "execute_result"
    }
   ],
   "source": [
    "import compileObjects\n",
    "compileObjects"
   ]
  },
  {
   "cell_type": "code",
   "execution_count": null,
   "metadata": {},
   "outputs": [],
   "source": []
  }
 ],
 "metadata": {
  "kernelspec": {
   "display_name": "Python 3",
   "language": "python",
   "name": "python3"
  },
  "language_info": {
   "codemirror_mode": {
    "name": "ipython",
    "version": 3
   },
   "file_extension": ".py",
   "mimetype": "text/x-python",
   "name": "python",
   "nbconvert_exporter": "python",
   "pygments_lexer": "ipython3",
   "version": "3.6.8"
  }
 },
 "nbformat": 4,
 "nbformat_minor": 2
}
