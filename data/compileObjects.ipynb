{
 "cells": [
  {
   "cell_type": "markdown",
   "metadata": {},
   "source": [
    "# Read in all json files in a directory and create 1 combined file for app\n"
   ]
  },
  {
   "cell_type": "code",
   "execution_count": 1,
   "metadata": {},
   "outputs": [],
   "source": [
    "import pandas as pd\n",
    "import numpy as np\n",
    "import os"
   ]
  },
  {
   "cell_type": "markdown",
   "metadata": {},
   "source": [
    "### Read in all the data"
   ]
  },
  {
   "cell_type": "code",
   "execution_count": 2,
   "metadata": {},
   "outputs": [],
   "source": [
    "loc = os.path.join('TileWallData','objectFiles')"
   ]
  },
  {
   "cell_type": "code",
   "execution_count": 25,
   "metadata": {},
   "outputs": [
    {
     "name": "stdout",
     "output_type": "stream",
     "text": [
      "['Abell1689.json', 'AlphaCentauri.json', 'AndromedaM31.json', 'AntennaeGalaxies.json', 'Aquarius.json', 'Aries.json', 'Betelgeuse.json', 'BlackEyeGalaxyM64.json', 'BodesM81.json', 'BulletCluster.json', 'ButterflyClusterM6.json', 'Cancer.json', 'Canopus.json', 'Capricornus.json', 'CarinaNebula.json', 'Cartwheel.json', 'Cassiopeia.json', 'CatsEyeNebula.json', 'CentaurusA.json', 'CigarGalaxyM82.json', 'CL002417.json', 'ComaCluster.json', 'CrabNebulaM1.json', 'EagleNebulaM16.json', 'EggNebula.json', 'ElephantsTrunkNebula.json', 'ElGordoSTILLWORKINGONTHIS.json', 'ESO510G13.json', 'EtaCarinae.json', 'EyesGalaxies.json', 'Fomalhaut.json', 'Gemini.json', 'HelixNebula.json', 'Hercules.json', 'HLTau.json', 'HoagsObject.json', 'HomunculusNebula.json', 'HorseheadNebula.json', 'HubbleDeepField.json', 'HubbleUltraDeepField.json', 'Hydra.json', 'LagoonNebulaM8.json', 'LargeMagellanicCloud.json', 'Leo.json', 'LeoTripletM66Group.json', 'Libra.json', 'Lyra.json', 'M10.json', 'M15.json', 'M2.json', 'M3.json', 'M4.json', 'M5.json', 'M60.json', 'M87akaVirgoA.json', 'M9.json', 'MayallsObject.json', 'MiceGalaxies.json', 'MilkyWayGalacticCenter.json', 'NGC1316akaFornaxA.json', 'NGC3314.json', 'NGC4993LIGOKilonova.json', 'NGC5866M102SpindleGalaxy.json', 'NGC5907.json', 'NGC602.json', 'NGC6050.json', 'Ophiuchus.json', 'Orion.json', 'OrionNebulaM42.json', 'PinwheelM101.json', 'Pisces.json', 'PleiadesM45.json', 'Polaris.json', 'Pollux.json', 'ProximaCentauri.json', 'PtolemyClusterM7.json', 'RCS2032727132623.json', 'RhoOphiuchi.json', 'RingNebulaM57.json', 'RosetteNebula.json', 'Sagittarius.json', 'SagittariusDwarfEllipticalGalaxy.json', 'Scorpius.json', 'Sirius.json', 'SmallMagellanicCloud.json', 'SombreroGalaxyM104.json', 'StephansQuintet.json', 'TarantulaNebula.json', 'Taurus.json', 'TriangulumGalaxy.json', 'UrsaMajor.json', 'UrsaMinor.json', 'VeilNebula.json', 'Virgo.json', 'Westerlund2.json', 'WhirlpoolM51.json']\n"
     ]
    }
   ],
   "source": [
    "files = os.listdir(loc)\n",
    "print(files)"
   ]
  },
  {
   "cell_type": "code",
   "execution_count": 33,
   "metadata": {},
   "outputs": [],
   "source": [
    "objects = []\n",
    "categories = []\n",
    "for f in files:\n",
    "    df = pd.read_json(os.path.join(loc,f),typ='series')\n",
    "    objects.append(df)\n",
    "    categories.append(df['Category'])"
   ]
  },
  {
   "cell_type": "markdown",
   "metadata": {},
   "source": [
    "### Identify the unique categories, and create the new dataframe"
   ]
  },
  {
   "cell_type": "code",
   "execution_count": 36,
   "metadata": {},
   "outputs": [
    {
     "name": "stdout",
     "output_type": "stream",
     "text": [
      "['Constellations', 'Star Clusters', 'Nebulae', 'Galaxies', 'Stars', 'Galaxy Clusters']\n"
     ]
    }
   ],
   "source": [
    "categories = list(set(categories))\n",
    "print(categories)\n",
    "dictOut = {}\n",
    "for c in categories:\n",
    "    dictOut[c] = {}"
   ]
  },
  {
   "cell_type": "code",
   "execution_count": null,
   "metadata": {},
   "outputs": [],
   "source": []
  },
  {
   "cell_type": "markdown",
   "metadata": {},
   "source": [
    "# Put this into a stand-alone python code as well.\n",
    "\n",
    "```jupyter nbconvert --to script [YOUR_NOTEBOOK].ipynb```"
   ]
  },
  {
   "cell_type": "code",
   "execution_count": 1,
   "metadata": {},
   "outputs": [
    {
     "name": "stdout",
     "output_type": "stream",
     "text": [
      "[NbConvertApp] Converting notebook compileObjects.ipynb to script\n",
      "[NbConvertApp] Writing 0 bytes to compileObjects.txt\n"
     ]
    }
   ],
   "source": [
    "!jupyter nbconvert --to script compileObjects.ipynb"
   ]
  },
  {
   "cell_type": "code",
   "execution_count": null,
   "metadata": {},
   "outputs": [],
   "source": []
  }
 ],
 "metadata": {
  "kernelspec": {
   "display_name": "Python 3",
   "language": "python",
   "name": "python3"
  },
  "language_info": {
   "codemirror_mode": {
    "name": "ipython",
    "version": 3
   },
   "file_extension": ".py",
   "mimetype": "text/x-python",
   "name": "python",
   "nbconvert_exporter": "python",
   "pygments_lexer": "ipython3",
   "version": "3.6.4"
  }
 },
 "nbformat": 4,
 "nbformat_minor": 2
}
