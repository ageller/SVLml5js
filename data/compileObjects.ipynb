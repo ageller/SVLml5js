{
 "cells": [
  {
   "cell_type": "markdown",
   "metadata": {},
   "source": [
    "# Read in all json files in a directory and create 1 combined file for app\n"
   ]
  },
  {
   "cell_type": "code",
   "execution_count": 1,
   "metadata": {},
   "outputs": [],
   "source": [
    "import pandas as pd\n",
    "import json\n",
    "import numpy as np\n",
    "import os"
   ]
  },
  {
   "cell_type": "markdown",
   "metadata": {},
   "source": [
    "### Read in all the data"
   ]
  },
  {
   "cell_type": "code",
   "execution_count": 2,
   "metadata": {},
   "outputs": [],
   "source": [
    "def getData(loc):\n",
    "    files = os.listdir(loc)\n",
    "    objects = {}\n",
    "    categories = []\n",
    "    for f in files:\n",
    "        if (f[0] != '.'):\n",
    "            print(f)\n",
    "            df = pd.read_json(os.path.join(loc,f),typ='dict', encoding = \"ISO-8859-1\", convert_axes = False)\n",
    "        # had a problem with pandas wanting to automatically convert M60 to a Timestamp!\n",
    "        #     if (f == \"M60.json\"):\n",
    "        #         print(f)\n",
    "        #         print(df)\n",
    "            objects.update(df)\n",
    "            categories.append(df[0]['Category'])\n",
    "        \n",
    "    return objects, categories"
   ]
  },
  {
   "cell_type": "markdown",
   "metadata": {},
   "source": [
    "*From the TileWall files*"
   ]
  },
  {
   "cell_type": "code",
   "execution_count": 3,
   "metadata": {},
   "outputs": [
    {
     "name": "stdout",
     "output_type": "stream",
     "text": [
      "Abell1689.json\n",
      "AlphaCentauri.json\n",
      "AndromedaM31.json\n",
      "AntennaeGalaxies.json\n",
      "Aquarius.json\n",
      "Aries.json\n",
      "Betelgeuse.json\n",
      "BlackEyeGalaxyM64.json\n",
      "BodesM81.json\n",
      "BulletCluster.json\n",
      "ButterflyClusterM6.json\n",
      "Cancer.json\n",
      "Canopus.json\n",
      "Capricornus.json\n",
      "CarinaNebula.json\n",
      "Cartwheel.json\n",
      "Cassiopeia.json\n",
      "CatsEyeNebula.json\n",
      "CentaurusA.json\n",
      "CigarGalaxyM82.json\n",
      "CL002417.json\n",
      "ComaCluster.json\n",
      "CrabNebulaM1.json\n",
      "EagleNebulaM16.json\n",
      "EggNebula.json\n",
      "ElephantsTrunkNebula.json\n",
      "ElGordo.json\n",
      "ESO510G13.json\n",
      "EtaCarinae.json\n",
      "EyesGalaxies.json\n",
      "Fomalhaut.json\n",
      "Gemini.json\n",
      "HelixNebula.json\n",
      "Hercules.json\n",
      "HLTau.json\n",
      "HoagsObject.json\n",
      "HomunculusNebula.json\n",
      "HorseheadNebula.json\n",
      "HubbleDeepField.json\n",
      "HubbleUltraDeepField.json\n",
      "Hydra.json\n",
      "LagoonNebulaM8.json\n",
      "LargeMagellanicCloud.json\n",
      "Leo.json\n",
      "LeoTripletM66Group.json\n",
      "Libra.json\n",
      "Lyra.json\n",
      "M10.json\n",
      "M15.json\n",
      "M2.json\n",
      "M3.json\n",
      "M4.json\n",
      "M5.json\n",
      "M60.json\n",
      "M87akaVirgoA.json\n",
      "M9.json\n",
      "MayallsObject.json\n",
      "MiceGalaxies.json\n",
      "MilkyWayGalacticCenter.json\n",
      "NGC1316akaFornaxA.json\n",
      "NGC3314.json\n",
      "NGC4993LIGOKilonova.json\n",
      "NGC5866M102SpindleGalaxy.json\n",
      "NGC5907.json\n",
      "NGC602.json\n",
      "NGC6050.json\n",
      "Ophiuchus.json\n",
      "Orion.json\n",
      "OrionNebulaM42.json\n",
      "PinwheelM101.json\n",
      "Pisces.json\n",
      "PleiadesM45.json\n",
      "Polaris.json\n",
      "Pollux.json\n",
      "ProximaCentauri.json\n",
      "PtolemyClusterM7.json\n",
      "RCS2032727132623.json\n",
      "RhoOphiuchi.json\n",
      "RingNebulaM57.json\n",
      "RosetteNebula.json\n",
      "Sagittarius.json\n",
      "SagittariusDwarfEllipticalGalaxy.json\n",
      "Scorpius.json\n",
      "Sirius.json\n",
      "SmallMagellanicCloud.json\n",
      "SombreroGalaxyM104.json\n",
      "StephansQuintet.json\n",
      "TarantulaNebula.json\n",
      "Taurus.json\n",
      "TriangulumGalaxy.json\n",
      "UrsaMajor.json\n",
      "UrsaMinor.json\n",
      "VeilNebula.json\n",
      "Virgo.json\n",
      "Westerlund2.json\n",
      "WhirlpoolM51.json\n"
     ]
    }
   ],
   "source": [
    "loc = os.path.join('TileWallData','objectFiles')\n",
    "objects, categories = getData(loc)"
   ]
  },
  {
   "cell_type": "markdown",
   "metadata": {},
   "source": [
    "*Check for other files added by users*"
   ]
  },
  {
   "cell_type": "code",
   "execution_count": 4,
   "metadata": {},
   "outputs": [
    {
     "name": "stdout",
     "output_type": "stream",
     "text": [
      "SN1987a.json\n",
      "['Galaxy Clusters', 'Stars', 'Galaxies', 'Galaxies', 'Constellations', 'Constellations', 'Stars', 'Galaxies', 'Galaxies', 'Galaxy Clusters', 'Star Clusters', 'Constellations', 'Stars', 'Constellations', 'Nebulae', 'Galaxies', 'Constellations', 'Nebulae', 'Galaxies', 'Galaxies', 'Galaxy Clusters', 'Galaxy Clusters', 'Nebulae', 'Nebulae', 'Nebulae', 'Nebulae', 'Galaxy Clusters', 'Galaxies', 'Stars', 'Galaxies', 'Stars', 'Constellations', 'Nebulae', 'Constellations', 'Stars', 'Galaxies', 'Nebulae', 'Nebulae', 'Galaxy Clusters', 'Galaxy Clusters', 'Constellations', 'Nebulae', 'Galaxies', 'Constellations', 'Galaxies', 'Constellations', 'Constellations', 'Star Clusters', 'Star Clusters', 'Star Clusters', 'Star Clusters', 'Star Clusters', 'Star Clusters', 'Galaxies', 'Galaxies', 'Star Clusters', 'Galaxies', 'Galaxies', 'Galaxies', 'Galaxies', 'Galaxies', 'Galaxies', 'Galaxies', 'Galaxies', 'Star Clusters', 'Galaxies', 'Constellations', 'Constellations', 'Nebulae', 'Galaxies', 'Constellations', 'Star Clusters', 'Stars', 'Stars', 'Stars', 'Star Clusters', 'Galaxy Clusters', 'Nebulae', 'Nebulae', 'Nebulae', 'Constellations', 'Galaxies', 'Constellations', 'Stars', 'Galaxies', 'Galaxies', 'Galaxies', 'Nebulae', 'Constellations', 'Galaxies', 'Constellations', 'Constellations', 'Nebulae', 'Constellations', 'Star Clusters', 'Galaxies', 'Nebulae']\n"
     ]
    }
   ],
   "source": [
    "loc = 'userObjects'\n",
    "if (os.path.isdir(loc)):\n",
    "    files = os.listdir(loc)\n",
    "    if (len(files) > 0):\n",
    "        ob, ca = getData(loc)\n",
    "        \n",
    "        categories.extend(ca)\n",
    "        if (len(ob) > 1):\n",
    "            for o in ob:\n",
    "                objects.update(o)\n",
    "        else:\n",
    "            objects.update(ob)\n",
    "\n",
    "#print(categories)"
   ]
  },
  {
   "cell_type": "markdown",
   "metadata": {},
   "source": [
    "### Identify the unique categories, and create the new dataframe"
   ]
  },
  {
   "cell_type": "code",
   "execution_count": 5,
   "metadata": {},
   "outputs": [
    {
     "name": "stdout",
     "output_type": "stream",
     "text": [
      "['Constellations', 'Star Clusters', 'Stars', 'Galaxy Clusters', 'Nebulae', 'Galaxies']\n"
     ]
    }
   ],
   "source": [
    "categories = list(set(categories))\n",
    "print(categories)\n",
    "dictOut = {}\n",
    "for c in categories:\n",
    "    dictOut[c] = []"
   ]
  },
  {
   "cell_type": "code",
   "execution_count": 6,
   "metadata": {},
   "outputs": [],
   "source": [
    "for key, o in objects.items():\n",
    "    dictOut[o['Category']].append({key:o})\n",
    "#print(dictOut)"
   ]
  },
  {
   "cell_type": "markdown",
   "metadata": {},
   "source": [
    "### Dump this to json"
   ]
  },
  {
   "cell_type": "code",
   "execution_count": 7,
   "metadata": {},
   "outputs": [],
   "source": [
    "with open('allObjects.json', 'w') as fp:\n",
    "    json.dump(dictOut, fp)"
   ]
  },
  {
   "cell_type": "markdown",
   "metadata": {},
   "source": [
    "# Put this into a stand-alone python code as well.\n",
    "\n",
    "```jupyter nbconvert --to script [YOUR_NOTEBOOK].ipynb```"
   ]
  },
  {
   "cell_type": "code",
   "execution_count": 10,
   "metadata": {},
   "outputs": [
    {
     "name": "stdout",
     "output_type": "stream",
     "text": [
      "[NbConvertApp] Converting notebook compileObjects.ipynb to script\n",
      "[NbConvertApp] Writing 1850 bytes to compileObjects.py\n"
     ]
    }
   ],
   "source": [
    "#!jupyter nbconvert --to script compileObjects.ipynb"
   ]
  },
  {
   "cell_type": "code",
   "execution_count": null,
   "metadata": {},
   "outputs": [],
   "source": []
  }
 ],
 "metadata": {
  "kernelspec": {
   "display_name": "Python 3",
   "language": "python",
   "name": "python3"
  },
  "language_info": {
   "codemirror_mode": {
    "name": "ipython",
    "version": 3
   },
   "file_extension": ".py",
   "mimetype": "text/x-python",
   "name": "python",
   "nbconvert_exporter": "python",
   "pygments_lexer": "ipython3",
   "version": "3.6.8"
  }
 },
 "nbformat": 4,
 "nbformat_minor": 2
}
