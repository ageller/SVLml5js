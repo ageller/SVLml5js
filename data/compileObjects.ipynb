{
 "cells": [
  {
   "cell_type": "markdown",
   "metadata": {},
   "source": [
    "# Read in all json files in a directory and create 1 combined file for app\n"
   ]
  },
  {
   "cell_type": "code",
   "execution_count": 1,
   "metadata": {},
   "outputs": [],
   "source": [
    "import pandas as pd\n",
    "import json\n",
    "import numpy as np\n",
    "import os"
   ]
  },
  {
   "cell_type": "markdown",
   "metadata": {},
   "source": [
    "### Read in all the data"
   ]
  },
  {
   "cell_type": "code",
   "execution_count": 2,
   "metadata": {},
   "outputs": [],
   "source": [
    "loc = os.path.join('TileWallData','objectFiles')"
   ]
  },
  {
   "cell_type": "code",
   "execution_count": 11,
   "metadata": {},
   "outputs": [],
   "source": [
    "files = os.listdir(loc)\n",
    "#print(files)"
   ]
  },
  {
   "cell_type": "code",
   "execution_count": 12,
   "metadata": {},
   "outputs": [],
   "source": [
    "objects = []\n",
    "categories = []\n",
    "for f in files:\n",
    "    df = pd.read_json(os.path.join(loc,f),typ='dict')\n",
    "    objects.append(df)\n",
    "    categories.append(df['Category'])"
   ]
  },
  {
   "cell_type": "markdown",
   "metadata": {},
   "source": [
    "### Identify the unique categories, and create the new dataframe"
   ]
  },
  {
   "cell_type": "code",
   "execution_count": 13,
   "metadata": {},
   "outputs": [
    {
     "name": "stdout",
     "output_type": "stream",
     "text": [
      "['Galaxy Clusters', 'Stars', 'Star Clusters', 'Galaxies', 'Nebulae', 'Constellations']\n"
     ]
    }
   ],
   "source": [
    "categories = list(set(categories))\n",
    "print(categories)\n",
    "dictOut = {}\n",
    "for c in categories:\n",
    "    dictOut[c] = []"
   ]
  },
  {
   "cell_type": "code",
   "execution_count": 14,
   "metadata": {},
   "outputs": [],
   "source": [
    "for o in objects:\n",
    "    dictOut[o['Category']].append(dict(o))\n",
    "#print(dictOut)"
   ]
  },
  {
   "cell_type": "markdown",
   "metadata": {},
   "source": [
    "### Dump this to json"
   ]
  },
  {
   "cell_type": "code",
   "execution_count": 15,
   "metadata": {},
   "outputs": [],
   "source": [
    "with open('allObjects.json', 'w') as fp:\n",
    "    json.dump(dictOut, fp)"
   ]
  },
  {
   "cell_type": "markdown",
   "metadata": {},
   "source": [
    "# Put this into a stand-alone python code as well.\n",
    "\n",
    "```jupyter nbconvert --to script [YOUR_NOTEBOOK].ipynb```"
   ]
  },
  {
   "cell_type": "code",
   "execution_count": 8,
   "metadata": {},
   "outputs": [
    {
     "name": "stdout",
     "output_type": "stream",
     "text": [
      "[NbConvertApp] Converting notebook compileObjects.ipynb to script\n",
      "[NbConvertApp] Writing 1083 bytes to compileObjects.py\n"
     ]
    }
   ],
   "source": [
    "!jupyter nbconvert --to script compileObjects.ipynb"
   ]
  },
  {
   "cell_type": "code",
   "execution_count": null,
   "metadata": {},
   "outputs": [],
   "source": []
  }
 ],
 "metadata": {
  "kernelspec": {
   "display_name": "Python 3",
   "language": "python",
   "name": "python3"
  },
  "language_info": {
   "codemirror_mode": {
    "name": "ipython",
    "version": 3
   },
   "file_extension": ".py",
   "mimetype": "text/x-python",
   "name": "python",
   "nbconvert_exporter": "python",
   "pygments_lexer": "ipython3",
   "version": "3.6.4"
  }
 },
 "nbformat": 4,
 "nbformat_minor": 2
}
