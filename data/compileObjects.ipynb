{
 "cells": [
  {
   "cell_type": "markdown",
   "metadata": {},
   "source": [
    "# Read in all json files in a directory and create 1 combined file for app\n"
   ]
  },
  {
   "cell_type": "code",
   "execution_count": 1,
   "metadata": {},
   "outputs": [],
   "source": [
    "import pandas as pd\n",
    "import json\n",
    "import numpy as np\n",
    "import os"
   ]
  },
  {
   "cell_type": "markdown",
   "metadata": {},
   "source": [
    "### Read in all the data"
   ]
  },
  {
   "cell_type": "code",
   "execution_count": 2,
   "metadata": {},
   "outputs": [],
   "source": [
    "def getData(loc):\n",
    "    files = os.listdir(loc)\n",
    "    objects = {}\n",
    "    categories = []\n",
    "    for f in files:\n",
    "        if (f[0] != '.'):\n",
    "            print(f)\n",
    "            df = pd.read_json(os.path.join(loc,f),typ='dict', encoding = \"ISO-8859-1\", convert_axes = False)\n",
    "        # had a problem with pandas wanting to automatically convert M60 to a Timestamp!\n",
    "        #     if (f == \"M60.json\"):\n",
    "        #         print(f)\n",
    "        #         print(df)\n",
    "            objects.update(df)\n",
    "            categories.append(df[0]['Category'])\n",
    "        \n",
    "    return objects, categories"
   ]
  },
  {
   "cell_type": "markdown",
   "metadata": {},
   "source": [
    "*From the TileWall files*"
   ]
  },
  {
   "cell_type": "code",
   "execution_count": 3,
   "metadata": {},
   "outputs": [
    {
     "name": "stdout",
     "output_type": "stream",
     "text": [
      "Abell1689.json\n",
      "AlphaCentauri.json\n",
      "AndromedaM31.json\n",
      "AntennaeGalaxies.json\n",
      "Aquarius.json\n",
      "Aries.json\n",
      "Betelgeuse.json\n",
      "BlackEyeGalaxyM64.json\n",
      "BodesM81.json\n",
      "BulletCluster.json\n",
      "ButterflyClusterM6.json\n",
      "Cancer.json\n",
      "Canopus.json\n",
      "Capricornus.json\n",
      "CarinaNebula.json\n",
      "Cartwheel.json\n",
      "Cassiopeia.json\n",
      "CatsEyeNebula.json\n",
      "CentaurusA.json\n",
      "CigarGalaxyM82.json\n",
      "CL002417.json\n",
      "ComaCluster.json\n",
      "CrabNebulaM1.json\n",
      "EagleNebulaM16.json\n",
      "EggNebula.json\n",
      "ElephantsTrunkNebula.json\n",
      "ElGordo.json\n",
      "ESO510G13.json\n",
      "EtaCarinae.json\n",
      "EyesGalaxies.json\n",
      "Fomalhaut.json\n",
      "Gemini.json\n",
      "HelixNebula.json\n",
      "Hercules.json\n",
      "HLTau.json\n",
      "HoagsObject.json\n",
      "HomunculusNebula.json\n",
      "HorseheadNebula.json\n",
      "HubbleDeepField.json\n",
      "HubbleUltraDeepField.json\n",
      "Hydra.json\n",
      "LagoonNebulaM8.json\n",
      "LargeMagellanicCloud.json\n",
      "Leo.json\n",
      "LeoTripletM66Group.json\n",
      "Libra.json\n",
      "Lyra.json\n",
      "M10.json\n",
      "M15.json\n",
      "M2.json\n",
      "M3.json\n",
      "M4.json\n",
      "M5.json\n",
      "M60.json\n",
      "M87akaVirgoA.json\n",
      "M9.json\n",
      "MayallsObject.json\n",
      "MiceGalaxies.json\n",
      "MilkyWayGalacticCenter.json\n",
      "NGC1316akaFornaxA.json\n",
      "NGC3314.json\n",
      "NGC4993LIGOKilonova.json\n",
      "NGC5866M102SpindleGalaxy.json\n",
      "NGC5907.json\n",
      "NGC602.json\n",
      "NGC6050.json\n",
      "Ophiuchus.json\n",
      "Orion.json\n",
      "OrionNebulaM42.json\n",
      "PinwheelM101.json\n",
      "Pisces.json\n",
      "PleiadesM45.json\n",
      "Polaris.json\n",
      "Pollux.json\n",
      "ProximaCentauri.json\n",
      "PtolemyClusterM7.json\n",
      "RCS2032727132623.json\n",
      "RhoOphiuchi.json\n",
      "RingNebulaM57.json\n",
      "RosetteNebula.json\n",
      "Sagittarius.json\n",
      "SagittariusDwarfEllipticalGalaxy.json\n",
      "Scorpius.json\n",
      "Sirius.json\n",
      "SmallMagellanicCloud.json\n",
      "SombreroGalaxyM104.json\n",
      "StephansQuintet.json\n",
      "TarantulaNebula.json\n",
      "Taurus.json\n",
      "TriangulumGalaxy.json\n",
      "UrsaMajor.json\n",
      "UrsaMinor.json\n",
      "VeilNebula.json\n",
      "Virgo.json\n",
      "Westerlund2.json\n",
      "WhirlpoolM51.json\n"
     ]
    }
   ],
   "source": [
    "loc = os.path.join('TileWallData','objectFiles')\n",
    "objects, categories = getData(loc)"
   ]
  },
  {
   "cell_type": "markdown",
   "metadata": {},
   "source": [
    "*Check for other files added by users*"
   ]
  },
  {
   "cell_type": "code",
   "execution_count": 6,
   "metadata": {},
   "outputs": [
    {
     "name": "stdout",
     "output_type": "stream",
     "text": [
      "CassiopeiaA.json\n",
      "SN1987a.json\n",
      "Cassiopeia A {'Cassiopeia A': {'WWTurl': 'http://tilewall.adlerplanetarium.org:5050/layerApi.aspx?cmd=mode&lookat=Sky&flyto=23.39,58.815,40,0', 'Distance': '11 kly', 'Size': None, 'Notes': \"Cassiopeia A (Cas A) is a supernova remnant (SNR) in the constellation Cassiopeia and the brightest extrasolar radio source in the sky at frequencies above 1 GHz. The supernova occurred approximately 11,000 light-years (3.4 kpc) away within the Milky Way. The expanding cloud of material left over from the supernova now appears approximately 10 light-years (3 pc) across from Earth's perspective. In wavelengths of visible light, it has been seen with amateur telescopes down to 234mm (9.25 in) with filters.It is estimated that light from the stellar explosion first reached Earth approximately 300 years ago, but there are no historical records of any sightings of the supernova that created the remnant. Since Cas A is circumpolar for mid-Northern latitudes, this is probably due to interstellar dust absorbing optical wavelength radiation before it reached Earth (although it is possible that it was recorded as a sixth magnitude star 3 Cassiopeiae by John Flamsteed on August 16, 1680). Possible explanations lean toward the idea that the source star was unusually massive and had previously ejected much of its outer layers. These outer layers would have cloaked the star and re-absorbed much of the light released as the inner star collapsed.\\nCas A was among the first discrete astronomical radio sources found.  Its discovery was reported in 1948 by Martin Ryle and Francis Graham-Smith, astronomers at Cambridge, based on observations with the Long Michelson Interferometer. The optical component was first identified in 1950.Cas A is 3C461 in the Third Cambridge Catalogue of Radio Sources and G111.7-2.1 in the Green Catalog of Supernova Remnants.\", 'Category': 'Nebula', 'images': ['https://upload.wikimedia.org/wikipedia/commons/c/cb/Cassiopeia_A_Spitzer_Crop.jpg', 'https://upload.wikimedia.org/wikipedia/commons/b/bd/G299-Remnants-SuperNova-Type1a-20150218.jpg', 'https://upload.wikimedia.org/wikipedia/commons/5/56/Heic0609.jpg', 'https://upload.wikimedia.org/wikipedia/commons/c/c5/Supernova%26galaxia.png'], 'wikipedia': 'https://en.wikipedia.org/wiki/Cassiopeia_A'}, 'SN 1987a': {'WWTurl': 'http://tilewall.adlerplanetarium.org:5050/layerApi.aspx?cmd=mode&lookat=Sky&flyto=5.591119444444444,69.26994166666667,40,0', 'Distance': '51.4 kpc', 'Size': None, 'Notes': 'SN 1987A was a peculiar type II supernova in the Large Magellanic Cloud, a dwarf galaxy satellite of the Milky Way. It occurred approximately 51.4 kiloparsecs (168,000 light-years) from Earth and was the closest observed supernova since Kepler\\'s Supernova, visible from earth in 1604. 1987A\\'s light reached Earth on February 23, 1987, and as the first supernova discovered that year, was labeled \"1987A\". Its brightness peaked in May, with an apparent magnitude of about 3.\\nIt was the first opportunity for modern astronomers to study the development of a supernova in great detail, and its observations have provided much insight into core-collapse supernovae.\\nSN 1987A provided the first chance to confirm by direct observation the radioactive source of the energy for visible light emissions, by detecting predicted gamma-ray line radiation from two of its abundant radioactive nuclei. This proved the radioactive nature of the long-duration post-explosion glow of supernovae.', 'Category': 'Nebula', 'images': ['https://upload.wikimedia.org/wikipedia/commons/0/0a/Eso0708a.jpg', 'https://upload.wikimedia.org/wikipedia/commons/a/af/Composite_image_of_Supernova_1987A.jpg', 'https://upload.wikimedia.org/wikipedia/commons/b/bd/G299-Remnants-SuperNova-Type1a-20150218.jpg', 'https://upload.wikimedia.org/wikipedia/commons/5/5f/He1523a.jpg', 'https://upload.wikimedia.org/wikipedia/commons/9/94/Large.mc.arp.750pix.jpg', 'https://upload.wikimedia.org/wikipedia/commons/9/9a/New_image_of_SN_1987A.jpg', 'https://upload.wikimedia.org/wikipedia/commons/b/b5/SN_1987A_HST.jpg', 'https://upload.wikimedia.org/wikipedia/commons/c/c4/Sn87a.jpg', 'https://upload.wikimedia.org/wikipedia/commons/c/c5/Supernova%26galaxia.png', 'https://upload.wikimedia.org/wikipedia/en/d/d0/Images_of_the_Warm_Dust_in_the_SN_1987A_debris.png', 'https://upload.wikimedia.org/wikipedia/en/d/dc/Model_of_the_dust_distribution.png'], 'wikipedia': 'https://en.wikipedia.org/wiki/SN_1987A'}}\n"
     ]
    },
    {
     "ename": "ValueError",
     "evalue": "dictionary update sequence element #0 has length 1; 2 is required",
     "output_type": "error",
     "traceback": [
      "\u001b[0;31m---------------------------------------------------------------------------\u001b[0m",
      "\u001b[0;31mValueError\u001b[0m                                Traceback (most recent call last)",
      "\u001b[0;32m<ipython-input-6-2b91dab91a74>\u001b[0m in \u001b[0;36m<module>\u001b[0;34m\u001b[0m\n\u001b[1;32m      9\u001b[0m             \u001b[0;32mfor\u001b[0m \u001b[0mo\u001b[0m \u001b[0;32min\u001b[0m \u001b[0mob\u001b[0m\u001b[0;34m:\u001b[0m\u001b[0;34m\u001b[0m\u001b[0;34m\u001b[0m\u001b[0m\n\u001b[1;32m     10\u001b[0m                 \u001b[0mprint\u001b[0m\u001b[0;34m(\u001b[0m\u001b[0mo\u001b[0m\u001b[0;34m,\u001b[0m \u001b[0mob\u001b[0m\u001b[0;34m)\u001b[0m\u001b[0;34m\u001b[0m\u001b[0;34m\u001b[0m\u001b[0m\n\u001b[0;32m---> 11\u001b[0;31m                 \u001b[0mobjects\u001b[0m\u001b[0;34m.\u001b[0m\u001b[0mupdate\u001b[0m\u001b[0;34m(\u001b[0m\u001b[0mo\u001b[0m\u001b[0;34m)\u001b[0m\u001b[0;34m\u001b[0m\u001b[0;34m\u001b[0m\u001b[0m\n\u001b[0m\u001b[1;32m     12\u001b[0m         \u001b[0;32melse\u001b[0m\u001b[0;34m:\u001b[0m\u001b[0;34m\u001b[0m\u001b[0;34m\u001b[0m\u001b[0m\n\u001b[1;32m     13\u001b[0m             \u001b[0mobjects\u001b[0m\u001b[0;34m.\u001b[0m\u001b[0mupdate\u001b[0m\u001b[0;34m(\u001b[0m\u001b[0mob\u001b[0m\u001b[0;34m)\u001b[0m\u001b[0;34m\u001b[0m\u001b[0;34m\u001b[0m\u001b[0m\n",
      "\u001b[0;31mValueError\u001b[0m: dictionary update sequence element #0 has length 1; 2 is required"
     ]
    }
   ],
   "source": [
    "loc = 'userObjects'\n",
    "if (os.path.isdir(loc)):\n",
    "    files = os.listdir(loc)\n",
    "    if (len(files) > 0):\n",
    "        ob, ca = getData(loc)\n",
    "        \n",
    "        categories.extend(ca)\n",
    "        if (len(ob) > 1):\n",
    "            for o in ob:\n",
    "                print(o, ob)\n",
    "                objects.update(o)\n",
    "        else:\n",
    "            objects.update(ob)\n",
    "\n",
    "#print(categories)"
   ]
  },
  {
   "cell_type": "markdown",
   "metadata": {},
   "source": [
    "### Identify the unique categories, and create the new dataframe"
   ]
  },
  {
   "cell_type": "code",
   "execution_count": null,
   "metadata": {},
   "outputs": [],
   "source": [
    "categories = list(set(categories))\n",
    "print(categories)\n",
    "dictOut = {}\n",
    "for c in categories:\n",
    "    dictOut[c] = []"
   ]
  },
  {
   "cell_type": "code",
   "execution_count": null,
   "metadata": {},
   "outputs": [],
   "source": [
    "for key, o in objects.items():\n",
    "    dictOut[o['Category']].append({key:o})\n",
    "#print(dictOut)"
   ]
  },
  {
   "cell_type": "markdown",
   "metadata": {},
   "source": [
    "### Dump this to json"
   ]
  },
  {
   "cell_type": "code",
   "execution_count": null,
   "metadata": {},
   "outputs": [],
   "source": [
    "with open('allObjects.json', 'w') as fp:\n",
    "    json.dump(dictOut, fp)"
   ]
  },
  {
   "cell_type": "markdown",
   "metadata": {},
   "source": [
    "# Put this into a stand-alone python code as well.\n",
    "\n",
    "```jupyter nbconvert --to script [YOUR_NOTEBOOK].ipynb```"
   ]
  },
  {
   "cell_type": "code",
   "execution_count": null,
   "metadata": {},
   "outputs": [],
   "source": [
    "#!jupyter nbconvert --to script compileObjects.ipynb"
   ]
  },
  {
   "cell_type": "code",
   "execution_count": null,
   "metadata": {},
   "outputs": [],
   "source": []
  }
 ],
 "metadata": {
  "kernelspec": {
   "display_name": "Python 3",
   "language": "python",
   "name": "python3"
  },
  "language_info": {
   "codemirror_mode": {
    "name": "ipython",
    "version": 3
   },
   "file_extension": ".py",
   "mimetype": "text/x-python",
   "name": "python",
   "nbconvert_exporter": "python",
   "pygments_lexer": "ipython3",
   "version": "3.6.8"
  }
 },
 "nbformat": 4,
 "nbformat_minor": 2
}
