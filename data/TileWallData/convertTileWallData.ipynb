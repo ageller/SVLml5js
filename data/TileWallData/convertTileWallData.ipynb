{
 "cells": [
  {
   "cell_type": "markdown",
   "metadata": {},
   "source": [
    "# Read TileWall data and convert it to multple .json files\n",
    "\n",
    "\n",
    "*I took the data from the google doc on the SVL drive, and converted it first to csv files.  Here I'm reading this in to create individual json files for each line.  I will write another code that will compile each individual json file into one json file to be read into the app.  I think this may be the easiest method for others to add additional objects.*"
   ]
  },
  {
   "cell_type": "code",
   "execution_count": 1,
   "metadata": {},
   "outputs": [],
   "source": [
    "import pandas as pd\n",
    "import numpy as np\n",
    "import os"
   ]
  },
  {
   "cell_type": "code",
   "execution_count": 2,
   "metadata": {},
   "outputs": [],
   "source": [
    "files = ['TileWallGalaxies.csv', 'TileWallGalaxyClusters.csv','TileWallNebulae.csv', \\\n",
    "         'TileWallStarClusters.csv','TileWallStars.csv',  'TileWallConstellations.csv' ]\n",
    "tpe = ['Galaxies', 'Galaxy Clusters', 'Nebulae', 'Star Clusters', 'Stars', 'Constellations']\n",
    "#not sure what to do about the 'Constellation Detailed Notes'..."
   ]
  },
  {
   "cell_type": "code",
   "execution_count": 3,
   "metadata": {},
   "outputs": [
    {
     "name": "stdout",
     "output_type": "stream",
     "text": [
      "objectFiles/AndromedaM31.json\n",
      "objectFiles/AntennaeGalaxies.json\n",
      "objectFiles/BlackEyeGalaxyM64.json\n",
      "objectFiles/BodesM81.json\n",
      "objectFiles/Cartwheel.json\n",
      "objectFiles/CentaurusA.json\n",
      "objectFiles/CigarGalaxyM82.json\n",
      "objectFiles/ESO510G13.json\n",
      "objectFiles/EyesGalaxies.json\n",
      "objectFiles/HoagsObject.json\n",
      "objectFiles/LargeMagellanicCloud.json\n",
      "objectFiles/LeoTripletM66Group.json\n",
      "objectFiles/M60.json\n",
      "objectFiles/M87akaVirgoA.json\n",
      "objectFiles/MayallsObject.json\n",
      "objectFiles/MiceGalaxies.json\n",
      "objectFiles/MilkyWayGalacticCenter.json\n",
      "objectFiles/NGC602.json\n",
      "objectFiles/NGC1316akaFornaxA.json\n",
      "objectFiles/NGC3314.json\n",
      "objectFiles/NGC4993LIGOKilonova.json\n",
      "objectFiles/NGC5866M102SpindleGalaxy.json\n",
      "objectFiles/NGC5907.json\n",
      "objectFiles/NGC6050.json\n",
      "objectFiles/PinwheelM101.json\n",
      "objectFiles/SagittariusDwarfEllipticalGalaxy.json\n",
      "objectFiles/SmallMagellanicCloud.json\n",
      "objectFiles/SombreroGalaxyM104.json\n",
      "objectFiles/StephansQuintet.json\n",
      "objectFiles/TriangulumGalaxy.json\n",
      "objectFiles/WhirlpoolM51.json\n",
      "objectFiles/Abell1689.json\n",
      "objectFiles/BulletCluster.json\n",
      "objectFiles/CL002417.json\n",
      "objectFiles/ComaCluster.json\n",
      "objectFiles/HubbleDeepField.json\n",
      "objectFiles/HubbleUltraDeepField.json\n",
      "objectFiles/ElGordoSTILLWORKINGONTHIS.json\n",
      "objectFiles/RCS2032727132623.json\n",
      "objectFiles/CarinaNebula.json\n",
      "objectFiles/CatsEyeNebula.json\n",
      "objectFiles/CrabNebulaM1.json\n",
      "objectFiles/EagleNebulaM16.json\n",
      "objectFiles/EggNebula.json\n",
      "objectFiles/ElephantsTrunkNebula.json\n",
      "objectFiles/HelixNebula.json\n",
      "objectFiles/HomunculusNebula.json\n",
      "objectFiles/HorseheadNebula.json\n",
      "objectFiles/LagoonNebulaM8.json\n",
      "objectFiles/OrionNebulaM42.json\n",
      "objectFiles/RhoOphiuchi.json\n",
      "objectFiles/RingNebulaM57.json\n",
      "objectFiles/RosetteNebula.json\n",
      "objectFiles/TarantulaNebula.json\n",
      "objectFiles/VeilNebula.json\n",
      "objectFiles/M2.json\n",
      "objectFiles/M3.json\n",
      "objectFiles/M4.json\n",
      "objectFiles/M5.json\n",
      "objectFiles/ButterflyClusterM6.json\n",
      "objectFiles/PtolemyClusterM7.json\n",
      "objectFiles/M9.json\n",
      "objectFiles/M10.json\n",
      "objectFiles/M15.json\n",
      "objectFiles/NGC602.json\n",
      "objectFiles/PleiadesM45.json\n",
      "objectFiles/Westerlund2.json\n",
      "objectFiles/AlphaCentauri.json\n",
      "objectFiles/Betelgeuse.json\n",
      "objectFiles/Canopus.json\n",
      "objectFiles/EtaCarinae.json\n",
      "objectFiles/Fomalhaut.json\n",
      "objectFiles/HLTau.json\n",
      "objectFiles/Polaris.json\n",
      "objectFiles/Pollux.json\n",
      "objectFiles/ProximaCentauri.json\n",
      "objectFiles/Sirius.json\n",
      "objectFiles/Aquarius.json\n",
      "objectFiles/Aries.json\n",
      "objectFiles/Cancer.json\n",
      "objectFiles/Capricornus.json\n",
      "objectFiles/Cassiopeia.json\n",
      "objectFiles/Gemini.json\n",
      "objectFiles/Hercules.json\n",
      "objectFiles/Hydra.json\n",
      "objectFiles/Leo.json\n",
      "objectFiles/Libra.json\n",
      "objectFiles/Lyra.json\n",
      "objectFiles/Ophiuchus.json\n",
      "objectFiles/Orion.json\n",
      "objectFiles/Pisces.json\n",
      "objectFiles/Sagittarius.json\n",
      "objectFiles/Scorpius.json\n",
      "objectFiles/Taurus.json\n",
      "objectFiles/UrsaMajor.json\n",
      "objectFiles/UrsaMinor.json\n",
      "objectFiles/Virgo.json\n"
     ]
    }
   ],
   "source": [
    "for i,f in enumerate(files):\n",
    "    df = pd.read_csv(f, encoding = \"ISO-8859-1\")\n",
    "    for index, row in df.iterrows():\n",
    "        if (isinstance(row['Object'], str)):\n",
    "            row['Category'] = tpe[i]\n",
    "            fname = os.path.join('objectFiles',''.join(e for e in row['Object'] if e.isalnum())+'.json')\n",
    "            print(fname)\n",
    "            row.to_json(fname)"
   ]
  },
  {
   "cell_type": "code",
   "execution_count": null,
   "metadata": {},
   "outputs": [],
   "source": []
  },
  {
   "cell_type": "code",
   "execution_count": null,
   "metadata": {},
   "outputs": [],
   "source": []
  }
 ],
 "metadata": {
  "kernelspec": {
   "display_name": "Python 3",
   "language": "python",
   "name": "python3"
  },
  "language_info": {
   "codemirror_mode": {
    "name": "ipython",
    "version": 3
   },
   "file_extension": ".py",
   "mimetype": "text/x-python",
   "name": "python",
   "nbconvert_exporter": "python",
   "pygments_lexer": "ipython3",
   "version": "3.6.4"
  }
 },
 "nbformat": 4,
 "nbformat_minor": 2
}
